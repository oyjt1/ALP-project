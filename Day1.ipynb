{
  "nbformat": 4,
  "nbformat_minor": 0,
  "metadata": {
    "colab": {
      "provenance": [],
      "authorship_tag": "ABX9TyPjxfNNQtP8CykGsKn3NfQ/",
      "include_colab_link": true
    },
    "kernelspec": {
      "name": "python3",
      "display_name": "Python 3"
    },
    "language_info": {
      "name": "python"
    }
  },
  "cells": [
    {
      "cell_type": "markdown",
      "metadata": {
        "id": "view-in-github",
        "colab_type": "text"
      },
      "source": [
        "<a href=\"https://colab.research.google.com/github/oyjt1/ALP-project/blob/main/Day1.ipynb\" target=\"_parent\"><img src=\"https://colab.research.google.com/assets/colab-badge.svg\" alt=\"Open In Colab\"/></a>"
      ]
    },
    {
      "cell_type": "code",
      "execution_count": null,
      "metadata": {
        "colab": {
          "base_uri": "https://localhost:8080/"
        },
        "id": "M_SLogMnZpnc",
        "outputId": "5998cbad-303e-470f-c0cf-9964571a0960"
      },
      "outputs": [
        {
          "output_type": "stream",
          "name": "stdout",
          "text": [
            "what's your name? \n",
            "1\n",
            "hellow 1\n",
            "\n",
            "are you female or male?\n",
            "1\n",
            "Great hear you are 1\n",
            "\n",
            "What is your favorite color?\n",
            "1\n",
            "1 is a good color\n",
            "\n",
            " what food you like ?\n",
            "1\n",
            "1 is a good food\n"
          ]
        }
      ],
      "source": [
        "print(\"what's your name? \")\n",
        "name=input()\n",
        "print (\"hellow \"+name)\n",
        "print()\n",
        "print(\"are you female or male?\")\n",
        "answer=input()\n",
        "print(\"Great hear you are \"+answer)\n",
        "print()\n",
        "print(\"What is your favorite color?\")\n",
        "answer2=input()\n",
        "print(answer2 +\" is a good color\")\n",
        "print()\n",
        "print(\" what food you like ?\")\n",
        "answer3=input()\n",
        "print(answer3 +\" is a good food\")\n"
      ]
    },
    {
      "cell_type": "code",
      "source": [
        "num1= int (input(\"enter number\"))"
      ],
      "metadata": {
        "colab": {
          "base_uri": "https://localhost:8080/"
        },
        "id": "CuCZZuQhiAY-",
        "outputId": "49944f3f-c225-41da-a3c0-6da1650c5751"
      },
      "execution_count": null,
      "outputs": [
        {
          "name": "stdout",
          "output_type": "stream",
          "text": [
            "enter number1\n"
          ]
        }
      ]
    },
    {
      "cell_type": "code",
      "source": [
        "\n",
        "length = int(input())\n",
        "width= int(input())\n",
        "print(str(length*width))\n"
      ],
      "metadata": {
        "colab": {
          "base_uri": "https://localhost:8080/",
          "height": 338
        },
        "id": "SrR9el4vjDpX",
        "outputId": "4db214b8-dc28-497e-bb4c-d164c243d895"
      },
      "execution_count": null,
      "outputs": [
        {
          "output_type": "error",
          "ename": "KeyboardInterrupt",
          "evalue": "Interrupted by user",
          "traceback": [
            "\u001b[0;31m---------------------------------------------------------------------------\u001b[0m",
            "\u001b[0;31mKeyboardInterrupt\u001b[0m                         Traceback (most recent call last)",
            "\u001b[0;32m<ipython-input-69-023629cc707f>\u001b[0m in \u001b[0;36m<cell line: 1>\u001b[0;34m()\u001b[0m\n\u001b[0;32m----> 1\u001b[0;31m \u001b[0mlength\u001b[0m \u001b[0;34m=\u001b[0m \u001b[0mint\u001b[0m\u001b[0;34m(\u001b[0m\u001b[0minput\u001b[0m\u001b[0;34m(\u001b[0m\u001b[0;34m)\u001b[0m\u001b[0;34m)\u001b[0m\u001b[0;34m\u001b[0m\u001b[0;34m\u001b[0m\u001b[0m\n\u001b[0m\u001b[1;32m      2\u001b[0m \u001b[0mwidth\u001b[0m\u001b[0;34m=\u001b[0m \u001b[0mint\u001b[0m\u001b[0;34m(\u001b[0m\u001b[0minput\u001b[0m\u001b[0;34m(\u001b[0m\u001b[0;34m)\u001b[0m\u001b[0;34m)\u001b[0m\u001b[0;34m\u001b[0m\u001b[0;34m\u001b[0m\u001b[0m\n\u001b[1;32m      3\u001b[0m \u001b[0mprint\u001b[0m\u001b[0;34m(\u001b[0m\u001b[0mstr\u001b[0m\u001b[0;34m(\u001b[0m\u001b[0mlength\u001b[0m\u001b[0;34m*\u001b[0m\u001b[0mwidth\u001b[0m\u001b[0;34m)\u001b[0m\u001b[0;34m)\u001b[0m\u001b[0;34m\u001b[0m\u001b[0;34m\u001b[0m\u001b[0m\n",
            "\u001b[0;32m/usr/local/lib/python3.10/dist-packages/ipykernel/kernelbase.py\u001b[0m in \u001b[0;36mraw_input\u001b[0;34m(self, prompt)\u001b[0m\n\u001b[1;32m    849\u001b[0m                 \u001b[0;34m\"raw_input was called, but this frontend does not support input requests.\"\u001b[0m\u001b[0;34m\u001b[0m\u001b[0;34m\u001b[0m\u001b[0m\n\u001b[1;32m    850\u001b[0m             )\n\u001b[0;32m--> 851\u001b[0;31m         return self._input_request(str(prompt),\n\u001b[0m\u001b[1;32m    852\u001b[0m             \u001b[0mself\u001b[0m\u001b[0;34m.\u001b[0m\u001b[0m_parent_ident\u001b[0m\u001b[0;34m,\u001b[0m\u001b[0;34m\u001b[0m\u001b[0;34m\u001b[0m\u001b[0m\n\u001b[1;32m    853\u001b[0m             \u001b[0mself\u001b[0m\u001b[0;34m.\u001b[0m\u001b[0m_parent_header\u001b[0m\u001b[0;34m,\u001b[0m\u001b[0;34m\u001b[0m\u001b[0;34m\u001b[0m\u001b[0m\n",
            "\u001b[0;32m/usr/local/lib/python3.10/dist-packages/ipykernel/kernelbase.py\u001b[0m in \u001b[0;36m_input_request\u001b[0;34m(self, prompt, ident, parent, password)\u001b[0m\n\u001b[1;32m    893\u001b[0m             \u001b[0;32mexcept\u001b[0m \u001b[0mKeyboardInterrupt\u001b[0m\u001b[0;34m:\u001b[0m\u001b[0;34m\u001b[0m\u001b[0;34m\u001b[0m\u001b[0m\n\u001b[1;32m    894\u001b[0m                 \u001b[0;31m# re-raise KeyboardInterrupt, to truncate traceback\u001b[0m\u001b[0;34m\u001b[0m\u001b[0;34m\u001b[0m\u001b[0m\n\u001b[0;32m--> 895\u001b[0;31m                 \u001b[0;32mraise\u001b[0m \u001b[0mKeyboardInterrupt\u001b[0m\u001b[0;34m(\u001b[0m\u001b[0;34m\"Interrupted by user\"\u001b[0m\u001b[0;34m)\u001b[0m \u001b[0;32mfrom\u001b[0m \u001b[0;32mNone\u001b[0m\u001b[0;34m\u001b[0m\u001b[0;34m\u001b[0m\u001b[0m\n\u001b[0m\u001b[1;32m    896\u001b[0m             \u001b[0;32mexcept\u001b[0m \u001b[0mException\u001b[0m \u001b[0;32mas\u001b[0m \u001b[0me\u001b[0m\u001b[0;34m:\u001b[0m\u001b[0;34m\u001b[0m\u001b[0;34m\u001b[0m\u001b[0m\n\u001b[1;32m    897\u001b[0m                 \u001b[0mself\u001b[0m\u001b[0;34m.\u001b[0m\u001b[0mlog\u001b[0m\u001b[0;34m.\u001b[0m\u001b[0mwarning\u001b[0m\u001b[0;34m(\u001b[0m\u001b[0;34m\"Invalid Message:\"\u001b[0m\u001b[0;34m,\u001b[0m \u001b[0mexc_info\u001b[0m\u001b[0;34m=\u001b[0m\u001b[0;32mTrue\u001b[0m\u001b[0;34m)\u001b[0m\u001b[0;34m\u001b[0m\u001b[0;34m\u001b[0m\u001b[0m\n",
            "\u001b[0;31mKeyboardInterrupt\u001b[0m: Interrupted by user"
          ]
        }
      ]
    },
    {
      "cell_type": "code",
      "source": [
        "answer= int(input())\n",
        "print( \"tip:\"+str(answer/100*20))\n",
        "print(\"total:\"+str(answer/100*120))\n",
        "\n"
      ],
      "metadata": {
        "colab": {
          "base_uri": "https://localhost:8080/"
        },
        "id": "sijNostamWDN",
        "outputId": "36bb890e-5f09-4a67-893e-73c162b7b744"
      },
      "execution_count": null,
      "outputs": [
        {
          "output_type": "stream",
          "name": "stdout",
          "text": [
            "1\n",
            "tip:0.2\n",
            "total:1.2\n"
          ]
        }
      ]
    },
    {
      "cell_type": "code",
      "source": [
        "length = int(input())\n",
        "width= int(input())\n",
        "height= int(input())\n",
        "print(str(length*width*height))\n",
        "print(str(length*width*2+height*width+height*length*2))"
      ],
      "metadata": {
        "id": "XH7USZXmpR3A"
      },
      "execution_count": null,
      "outputs": []
    },
    {
      "cell_type": "code",
      "source": [
        "num1=100\n",
        "num2=50\n",
        "if num1>num2:\n",
        "   print(\"num1 is bigger\")\n"
      ],
      "metadata": {
        "colab": {
          "base_uri": "https://localhost:8080/"
        },
        "id": "US2LwSuVr5t6",
        "outputId": "e3d79a84-bc97-4e06-f4e0-005c7becd0bc"
      },
      "execution_count": null,
      "outputs": [
        {
          "output_type": "stream",
          "name": "stdout",
          "text": [
            "num1 is bigger\n"
          ]
        }
      ]
    },
    {
      "cell_type": "code",
      "source": [
        "anwser=input()\n",
        "if anwser==\"1337\":\n",
        "   print(\"CORRECT passwod\")\n",
        "else:\n",
        "   print(\"INCORRECT password\")"
      ],
      "metadata": {
        "colab": {
          "base_uri": "https://localhost:8080/"
        },
        "id": "zw9zshqIuuBj",
        "outputId": "376a4f3b-30f3-43ce-edf1-6d1de4159f1e"
      },
      "execution_count": null,
      "outputs": [
        {
          "output_type": "stream",
          "name": "stdout",
          "text": [
            "1337\n",
            "CORRECT\n"
          ]
        }
      ]
    },
    {
      "cell_type": "code",
      "source": [
        "answer1=input()\n",
        "answer2=input()\n",
        "if answer1>answer2:\n",
        "   print(\"answer1 is bigger\")\n",
        "else:\n",
        "   print(\"answer2 is bigger\")\n"
      ],
      "metadata": {
        "colab": {
          "base_uri": "https://localhost:8080/"
        },
        "id": "qX61AEJBvn9t",
        "outputId": "d314c9b1-b7d4-46ce-f157-b3d4a40a0e72"
      },
      "execution_count": null,
      "outputs": [
        {
          "output_type": "stream",
          "name": "stdout",
          "text": [
            "1\n",
            "1\n",
            "answer1 is bigger\n"
          ]
        }
      ]
    },
    {
      "cell_type": "code",
      "source": [
        "print(\"What is your name?\")\n",
        "name=input()\n",
        "print (\"hellow \"+name)\n",
        "print(\"What is your favorite subject?\")\n",
        "answer2=input()\n",
        "if answer2==\"math\":\n",
        "   print(\"math is a good subject\")\n",
        "elif answer2==\"english\":\n",
        "   print(\"english is a good subject\")\n",
        "elif answer2==\"science\":\n",
        "   print(\"science is a good subject\")\n",
        "else:\n",
        "      print(\"I don't know the subject\")"
      ],
      "metadata": {
        "colab": {
          "base_uri": "https://localhost:8080/"
        },
        "id": "tksOuubl6Y6B",
        "outputId": "39d1c173-5cb4-4ee0-ab41-ac3368443a58"
      },
      "execution_count": null,
      "outputs": [
        {
          "output_type": "stream",
          "name": "stdout",
          "text": [
            "What is your name?\n",
            "peter\n",
            "hellow peter\n",
            "What is your favorite subject?\n",
            "math\n",
            "math is a good subject\n"
          ]
        }
      ]
    },
    {
      "cell_type": "code",
      "source": [
        "print(\"What is your name?\")\n",
        "name=input()\n",
        "print (\"hellow \"+name)\n",
        "print(\"pick a number from 1 to 5\")\n",
        "num=input()\n",
        "if num==\"1\":\n",
        "   print(name+\",one is good number\")\n",
        "elif num==\"2\":\n",
        "   print(name+\",two is cool number\" )\n",
        "elif num==\"3\":\n",
        "   print(name+\",three is great number\"  )\n",
        "elif num==\"4\":\n",
        "   print(name+\",four is bad numbre\")\n",
        "elif num==\"5\":\n",
        "   print(name+\",five is the best number\")"
      ],
      "metadata": {
        "colab": {
          "base_uri": "https://localhost:8080/"
        },
        "id": "wFUEBbXa8C6r",
        "outputId": "7a132680-5e7e-4255-ab1a-4c6f814e6bfc"
      },
      "execution_count": null,
      "outputs": [
        {
          "output_type": "stream",
          "name": "stdout",
          "text": [
            "What is your name?\n",
            "e\n",
            "hellow e\n",
            "pick a number from 1 to 5\n",
            "1\n",
            "e,one is good number\n"
          ]
        }
      ]
    },
    {
      "cell_type": "code",
      "source": [
        "counter=1\n",
        "\n",
        "\n",
        "\n",
        "\n",
        "\n",
        "\n",
        "\n",
        "\n",
        "\n",
        "\n",
        "\n",
        "\n",
        "\n",
        "\n",
        "\n",
        "\n",
        "\n",
        "3#outpu sultipies of 7\n",
        "while counter<= 12:\n",
        "   j =counter *7\n",
        "   print(\"j\")\n",
        "   counter +=1\n"
      ],
      "metadata": {
        "colab": {
          "base_uri": "https://localhost:8080/"
        },
        "id": "laKQDSVfC7hF",
        "outputId": "25b96874-ff97-48c7-b6c4-e330730530ad"
      },
      "execution_count": null,
      "outputs": [
        {
          "output_type": "stream",
          "name": "stdout",
          "text": [
            "j\n",
            "j\n",
            "j\n",
            "j\n",
            "j\n",
            "j\n",
            "j\n",
            "j\n",
            "j\n",
            "j\n",
            "j\n",
            "j\n"
          ]
        }
      ]
    },
    {
      "cell_type": "markdown",
      "source": [],
      "metadata": {
        "id": "nOWZejgpDIuy"
      }
    },
    {
      "cell_type": "markdown",
      "source": [],
      "metadata": {
        "id": "etaXOwVmD_X3"
      }
    },
    {
      "cell_type": "code",
      "source": [
        "num=1\n",
        "name=int(input())\n",
        "while num<=name:\n",
        "   print(num**3)\n",
        "   num+=1\n"
      ],
      "metadata": {
        "colab": {
          "base_uri": "https://localhost:8080/"
        },
        "id": "YC2SSV4AD_o2",
        "outputId": "b1ddf7e8-5bac-4cf3-95ee-091897e5ae71"
      },
      "execution_count": null,
      "outputs": [
        {
          "output_type": "stream",
          "name": "stdout",
          "text": [
            "7\n",
            "1\n",
            "8\n",
            "27\n",
            "64\n",
            "125\n",
            "216\n",
            "343\n"
          ]
        }
      ]
    }
  ]
}