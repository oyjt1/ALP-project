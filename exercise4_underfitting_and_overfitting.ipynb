{
  "metadata": {
    "kernelspec": {
      "display_name": "Python 3",
      "language": "python",
      "name": "python3"
    },
    "language_info": {
      "codemirror_mode": {
        "name": "ipython",
        "version": 3
      },
      "file_extension": ".py",
      "mimetype": "text/x-python",
      "name": "python",
      "nbconvert_exporter": "python",
      "pygments_lexer": "ipython3",
      "version": "3.6.5"
    },
    "kaggle": {
      "accelerator": "none",
      "dataSources": [
        {
          "sourceId": 10211,
          "databundleVersionId": 111096,
          "sourceType": "competition"
        },
        {
          "sourceId": 15520,
          "sourceType": "datasetVersion",
          "datasetId": 11167
        },
        {
          "sourceId": 38454,
          "sourceType": "datasetVersion",
          "datasetId": 2709
        }
      ],
      "isInternetEnabled": false,
      "language": "python",
      "sourceType": "notebook",
      "isGpuEnabled": false
    },
    "colab": {
      "provenance": [],
      "include_colab_link": true
    }
  },
  "nbformat_minor": 0,
  "nbformat": 4,
  "cells": [
    {
      "cell_type": "markdown",
      "metadata": {
        "id": "view-in-github",
        "colab_type": "text"
      },
      "source": [
        "<a href=\"https://colab.research.google.com/github/oyjt1/ALP-project/blob/main/exercise4_underfitting_and_overfitting.ipynb\" target=\"_parent\"><img src=\"https://colab.research.google.com/assets/colab-badge.svg\" alt=\"Open In Colab\"/></a>"
      ]
    },
    {
      "cell_type": "markdown",
      "source": [
        "## Recap\n",
        "You've built your first model, and now it's time to optimize the size of the tree to make better predictions. Run this cell to set up your coding environment where the previous step left off."
      ],
      "metadata": {
        "id": "uj8G09PcRa70"
      }
    },
    {
      "cell_type": "code",
      "source": [
        "# Code you have previously used to load data\n",
        "import pandas as pd\n",
        "from sklearn.metrics import mean_absolute_error\n",
        "from sklearn.model_selection import train_test_split\n",
        "from sklearn.tree import DecisionTreeRegressor\n",
        "\n",
        "\n",
        "# Path of the file to read\n",
        "iowa_file_path = '/train.csv'\n",
        "\n",
        "home_data = pd.read_csv(iowa_file_path)\n",
        "# Create target object and call it y\n",
        "y = home_data.SalePrice\n",
        "# Create X\n",
        "features = ['LotArea', 'YearBuilt', '1stFlrSF', '2ndFlrSF', 'FullBath', 'BedroomAbvGr', 'TotRmsAbvGrd']\n",
        "X = home_data[features]\n",
        "\n",
        "# Split into validation and training data\n",
        "train_X, val_X, train_y, val_y = train_test_split(X, y, random_state=1)\n",
        "\n",
        "# Specify Model\n",
        "iowa_model = DecisionTreeRegressor(random_state=1)\n",
        "# Fit Model\n",
        "iowa_model.fit(train_X, train_y)\n",
        "\n",
        "# Make validation predictions and calculate mean absolute error\n",
        "val_predictions = iowa_model.predict(val_X)\n",
        "val_mae = mean_absolute_error(val_predictions, val_y)\n",
        "print(\"Validation MAE: {:,.0f}\".format(val_mae))\n"
      ],
      "metadata": {
        "collapsed": true,
        "jupyter": {
          "outputs_hidden": true
        },
        "id": "4-eB-KElRa71",
        "colab": {
          "base_uri": "https://localhost:8080/"
        },
        "outputId": "beac2140-c7fb-41ee-c4e0-4f5eb6c6d6e7"
      },
      "execution_count": null,
      "outputs": [
        {
          "output_type": "stream",
          "name": "stdout",
          "text": [
            "Validation MAE: 29,653\n"
          ]
        }
      ]
    },
    {
      "cell_type": "code",
      "source": [],
      "metadata": {
        "id": "4wkCJIoXLy62"
      },
      "execution_count": null,
      "outputs": []
    },
    {
      "cell_type": "markdown",
      "source": [
        "# Exercises\n",
        "You could write the function `get_mae` yourself. For now, we'll supply it. This is the same function you read about in the previous lesson. Just run the cell below."
      ],
      "metadata": {
        "id": "JO7KVrcPRa74"
      }
    },
    {
      "cell_type": "code",
      "source": [
        "def get_mae(max_leaf_nodes, train_X, val_X, train_y, val_y):\n",
        "    model = DecisionTreeRegressor(max_leaf_nodes=max_leaf_nodes, random_state=0)\n",
        "    model.fit(train_X, train_y)\n",
        "    preds_val = model.predict(val_X)\n",
        "    mae = mean_absolute_error(val_y, preds_val)\n",
        "    return(mae)"
      ],
      "metadata": {
        "id": "tUGfNdCfRa75"
      },
      "execution_count": null,
      "outputs": []
    },
    {
      "cell_type": "markdown",
      "source": [
        "## Step 1: Compare Different Tree Sizes\n",
        "Write a loop that tries the following values for *max_leaf_nodes* from a set of possible values.\n",
        "\n",
        "Call the *get_mae* function on each value of max_leaf_nodes. Store the output in some way that allows you to select the value of `max_leaf_nodes` that gives the most accurate model on your data."
      ],
      "metadata": {
        "id": "6ZfoEMuuRa75"
      }
    },
    {
      "cell_type": "code",
      "source": [
        "candidate_max_leaf_nodes = [5, 25, 50, 100, 250, 500]\n",
        "maes = []\n",
        "# Write loop to find the ideal tree size from candidate_max_leaf_nodes\n",
        "for max_leaf_nodes in candidate_max_leaf_nodes:\n",
        "    my_mae = get_mae(max_leaf_nodes, train_X, val_X, train_y, val_y)\n",
        "    maes.append(my_mae)\n",
        "    print(maes)\n",
        "\n",
        "# Store the best value of max_leaf_nodes (it will be either 5, 25, 50, 100, 250 or 500)\n",
        "best_tree_size = ___\n"
      ],
      "metadata": {
        "id": "_T1DCPihRa76",
        "colab": {
          "base_uri": "https://localhost:8080/"
        },
        "outputId": "c28c3d51-79ad-4cc0-b43f-6a2dcd8d9f13"
      },
      "execution_count": null,
      "outputs": [
        {
          "output_type": "stream",
          "name": "stdout",
          "text": [
            "[35044.51299744237]\n",
            "[35044.51299744237, 29016.41319191076]\n",
            "[35044.51299744237, 29016.41319191076, 27405.930473214907]\n",
            "[35044.51299744237, 29016.41319191076, 27405.930473214907, 27282.50803885739]\n",
            "[35044.51299744237, 29016.41319191076, 27405.930473214907, 27282.50803885739, 27893.822225701646]\n",
            "[35044.51299744237, 29016.41319191076, 27405.930473214907, 27282.50803885739, 27893.822225701646, 29454.18598068598]\n"
          ]
        }
      ]
    },
    {
      "cell_type": "markdown",
      "source": [
        "## Step 2: Fit Model Using All Data\n",
        "You know the best tree size. If you were going to deploy this model in practice, you would make it even more accurate by using all of the data and keeping that tree size.  That is, you don't need to hold out the validation data now that you've made all your modeling decisions."
      ],
      "metadata": {
        "id": "MB-GVRkQRa77"
      }
    },
    {
      "cell_type": "code",
      "source": [
        "# Fill in argument to make optimal size and uncomment\n",
        "final_model = DecisionTreeRegressor(max_leaf_nodes=100,random_state=1)\n",
        "\n",
        "# fit the final model and uncomment the next two line\n",
        "final_model.fit(x, y)\n",
        "# final_model = DecisionTreeRegressor()\n",
        "# fit the final model and uncomment the next two lines\n",
        "# final_model.fit(____, ____)\n"
      ],
      "metadata": {
        "id": "UUP2qjblRa77"
      },
      "execution_count": null,
      "outputs": []
    },
    {
      "cell_type": "markdown",
      "source": [
        "You've tuned this model and improved your results. But we are still using Decision Tree models, which are not very sophisticated by modern machine learning standards. In the next step you will learn to use Random Forests to improve your models even more.\n",
        "\n",
        "# Keep Going\n",
        "\n",
        "You are ready for **Random Forests**\n"
      ],
      "metadata": {
        "id": "R0vRqGwbRa78"
      }
    }
  ]
}