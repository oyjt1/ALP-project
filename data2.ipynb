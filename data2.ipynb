{
  "nbformat": 4,
  "nbformat_minor": 0,
  "metadata": {
    "colab": {
      "provenance": [],
      "authorship_tag": "ABX9TyPO+AYdpe09BN1lx6oGI2xW",
      "include_colab_link": true
    },
    "kernelspec": {
      "name": "python3",
      "display_name": "Python 3"
    },
    "language_info": {
      "name": "python"
    }
  },
  "cells": [
    {
      "cell_type": "markdown",
      "metadata": {
        "id": "view-in-github",
        "colab_type": "text"
      },
      "source": [
        "<a href=\"https://colab.research.google.com/github/oyjt1/ALP-project/blob/main/data2.ipynb\" target=\"_parent\"><img src=\"https://colab.research.google.com/assets/colab-badge.svg\" alt=\"Open In Colab\"/></a>"
      ]
    },
    {
      "cell_type": "code",
      "execution_count": null,
      "metadata": {
        "id": "aEjsdFXCy5jI",
        "colab": {
          "base_uri": "https://localhost:8080/"
        },
        "outputId": "8a503006-dd42-440a-f3a2-43350921f4c3"
      },
      "outputs": [
        {
          "output_type": "stream",
          "name": "stdout",
          "text": [
            "incorrect\n"
          ]
        }
      ],
      "source": [
        "name=\"Dave\"\n",
        "name1= input,(\"please enter your username\")\n",
        "while name==name1:\n",
        "    print(\"correct\")\n",
        "else:\n",
        "    print(\"incorrect\")\n"
      ]
    },
    {
      "cell_type": "markdown",
      "source": [],
      "metadata": {
        "id": "mK73QV9o5f6e"
      }
    },
    {
      "cell_type": "markdown",
      "source": [
        "task make 1"
      ],
      "metadata": {
        "id": "pE8Iu7Q84WaM"
      }
    },
    {
      "cell_type": "code",
      "source": [
        "name1=input(\"enter new password\")\n",
        "name2=input(\"enter new password\")\n",
        "while name1!=name2:\n",
        "    print(\"incorret\")\n",
        "    name1=input()\n",
        "    name2=input()\n",
        "else:\n",
        "     print(\"match\")\n"
      ],
      "metadata": {
        "colab": {
          "base_uri": "https://localhost:8080/",
          "height": 373
        },
        "id": "8qR04jT_4Whe",
        "outputId": "b133999a-bc3a-42c1-c383-1b1ef71082f0"
      },
      "execution_count": null,
      "outputs": [
        {
          "output_type": "error",
          "ename": "KeyboardInterrupt",
          "evalue": "Interrupted by user",
          "traceback": [
            "\u001b[0;31m---------------------------------------------------------------------------\u001b[0m",
            "\u001b[0;31mKeyboardInterrupt\u001b[0m                         Traceback (most recent call last)",
            "\u001b[0;32m<ipython-input-187-a662227a4297>\u001b[0m in \u001b[0;36m<cell line: 1>\u001b[0;34m()\u001b[0m\n\u001b[0;32m----> 1\u001b[0;31m \u001b[0mname1\u001b[0m\u001b[0;34m=\u001b[0m\u001b[0minput\u001b[0m\u001b[0;34m(\u001b[0m\u001b[0;34m\"enter new password\"\u001b[0m\u001b[0;34m)\u001b[0m\u001b[0;34m\u001b[0m\u001b[0;34m\u001b[0m\u001b[0m\n\u001b[0m\u001b[1;32m      2\u001b[0m \u001b[0mname2\u001b[0m\u001b[0;34m=\u001b[0m\u001b[0minput\u001b[0m\u001b[0;34m(\u001b[0m\u001b[0;34m\"enter new password\"\u001b[0m\u001b[0;34m)\u001b[0m\u001b[0;34m\u001b[0m\u001b[0;34m\u001b[0m\u001b[0m\n\u001b[1;32m      3\u001b[0m \u001b[0;32mwhile\u001b[0m \u001b[0mname1\u001b[0m\u001b[0;34m!=\u001b[0m\u001b[0mname2\u001b[0m\u001b[0;34m:\u001b[0m\u001b[0;34m\u001b[0m\u001b[0;34m\u001b[0m\u001b[0m\n\u001b[1;32m      4\u001b[0m     \u001b[0mprint\u001b[0m\u001b[0;34m(\u001b[0m\u001b[0;34m\"incorret\"\u001b[0m\u001b[0;34m)\u001b[0m\u001b[0;34m\u001b[0m\u001b[0;34m\u001b[0m\u001b[0m\n\u001b[1;32m      5\u001b[0m     \u001b[0mname1\u001b[0m\u001b[0;34m=\u001b[0m\u001b[0minput\u001b[0m\u001b[0;34m(\u001b[0m\u001b[0;34m)\u001b[0m\u001b[0;34m\u001b[0m\u001b[0;34m\u001b[0m\u001b[0m\n",
            "\u001b[0;32m/usr/local/lib/python3.10/dist-packages/ipykernel/kernelbase.py\u001b[0m in \u001b[0;36mraw_input\u001b[0;34m(self, prompt)\u001b[0m\n\u001b[1;32m    849\u001b[0m                 \u001b[0;34m\"raw_input was called, but this frontend does not support input requests.\"\u001b[0m\u001b[0;34m\u001b[0m\u001b[0;34m\u001b[0m\u001b[0m\n\u001b[1;32m    850\u001b[0m             )\n\u001b[0;32m--> 851\u001b[0;31m         return self._input_request(str(prompt),\n\u001b[0m\u001b[1;32m    852\u001b[0m             \u001b[0mself\u001b[0m\u001b[0;34m.\u001b[0m\u001b[0m_parent_ident\u001b[0m\u001b[0;34m,\u001b[0m\u001b[0;34m\u001b[0m\u001b[0;34m\u001b[0m\u001b[0m\n\u001b[1;32m    853\u001b[0m             \u001b[0mself\u001b[0m\u001b[0;34m.\u001b[0m\u001b[0m_parent_header\u001b[0m\u001b[0;34m,\u001b[0m\u001b[0;34m\u001b[0m\u001b[0;34m\u001b[0m\u001b[0m\n",
            "\u001b[0;32m/usr/local/lib/python3.10/dist-packages/ipykernel/kernelbase.py\u001b[0m in \u001b[0;36m_input_request\u001b[0;34m(self, prompt, ident, parent, password)\u001b[0m\n\u001b[1;32m    893\u001b[0m             \u001b[0;32mexcept\u001b[0m \u001b[0mKeyboardInterrupt\u001b[0m\u001b[0;34m:\u001b[0m\u001b[0;34m\u001b[0m\u001b[0;34m\u001b[0m\u001b[0m\n\u001b[1;32m    894\u001b[0m                 \u001b[0;31m# re-raise KeyboardInterrupt, to truncate traceback\u001b[0m\u001b[0;34m\u001b[0m\u001b[0;34m\u001b[0m\u001b[0m\n\u001b[0;32m--> 895\u001b[0;31m                 \u001b[0;32mraise\u001b[0m \u001b[0mKeyboardInterrupt\u001b[0m\u001b[0;34m(\u001b[0m\u001b[0;34m\"Interrupted by user\"\u001b[0m\u001b[0;34m)\u001b[0m \u001b[0;32mfrom\u001b[0m \u001b[0;32mNone\u001b[0m\u001b[0;34m\u001b[0m\u001b[0;34m\u001b[0m\u001b[0m\n\u001b[0m\u001b[1;32m    896\u001b[0m             \u001b[0;32mexcept\u001b[0m \u001b[0mException\u001b[0m \u001b[0;32mas\u001b[0m \u001b[0me\u001b[0m\u001b[0;34m:\u001b[0m\u001b[0;34m\u001b[0m\u001b[0;34m\u001b[0m\u001b[0m\n\u001b[1;32m    897\u001b[0m                 \u001b[0mself\u001b[0m\u001b[0;34m.\u001b[0m\u001b[0mlog\u001b[0m\u001b[0;34m.\u001b[0m\u001b[0mwarning\u001b[0m\u001b[0;34m(\u001b[0m\u001b[0;34m\"Invalid Message:\"\u001b[0m\u001b[0;34m,\u001b[0m \u001b[0mexc_info\u001b[0m\u001b[0;34m=\u001b[0m\u001b[0;32mTrue\u001b[0m\u001b[0;34m)\u001b[0m\u001b[0;34m\u001b[0m\u001b[0;34m\u001b[0m\u001b[0m\n",
            "\u001b[0;31mKeyboardInterrupt\u001b[0m: Interrupted by user"
          ]
        }
      ]
    },
    {
      "cell_type": "markdown",
      "source": [
        "list"
      ],
      "metadata": {
        "id": "XDm5k64C8ovy"
      }
    },
    {
      "cell_type": "code",
      "source": [
        "from ast import Num\n",
        "fruit=[\"Apple\",\"Banana\",\"Grape\",\"Strawberry\",\"Melon\",\"Orange\",\"Pear\"]\n",
        "Num=int(input(\"enter number\"))\n",
        "print(fruit[Num])"
      ],
      "metadata": {
        "colab": {
          "base_uri": "https://localhost:8080/"
        },
        "id": "SxHzL5668o4Q",
        "outputId": "57bd4131-ce64-4f24-aa11-73205cccd440"
      },
      "execution_count": null,
      "outputs": [
        {
          "output_type": "stream",
          "name": "stdout",
          "text": [
            "enter number4\n",
            "Melon\n"
          ]
        }
      ]
    },
    {
      "cell_type": "markdown",
      "source": [],
      "metadata": {
        "id": "uA-M32BY4ViZ"
      }
    },
    {
      "cell_type": "code",
      "source": [
        "from os import remove\n",
        "\n",
        "food=[\"bacon\",\"cheese\",\"pasta\",\"pasta\",\"beans\"]\n",
        "food.append(\"tamatos\")\n",
        "food.insert(1,\"icecream\")\n",
        "food.remove(\"cheese\")\n",
        "food.pop()"
      ],
      "metadata": {
        "colab": {
          "base_uri": "https://localhost:8080/",
          "height": 35
        },
        "id": "gZR0_wa9_uUo",
        "outputId": "b6bf8e56-c424-47a9-c151-cdfbfa205220"
      },
      "execution_count": null,
      "outputs": [
        {
          "output_type": "execute_result",
          "data": {
            "text/plain": [
              "'tamatos'"
            ],
            "application/vnd.google.colaboratory.intrinsic+json": {
              "type": "string"
            }
          },
          "metadata": {},
          "execution_count": 112
        }
      ]
    },
    {
      "cell_type": "code",
      "source": [
        "from pickle import INT\n",
        "weapon=[\"sword\",\"bow\",\"arrow\"]\n",
        "print(\"you meet a zombi,chose 1 or 2\")\n",
        "INTinput()\n",
        "print(\"zombi's weakness is sword\")\n",
        "num=input(\"choose a weapon(0`2)\")\n",
        "if num==weapon[1]:\n",
        "    print(\"you win\")\n",
        "else:\n",
        "    print(\"you lose\")"
      ],
      "metadata": {
        "colab": {
          "base_uri": "https://localhost:8080/"
        },
        "id": "9anp83JJCJc1",
        "outputId": "fc736d2f-a3b5-4cee-ff43-5d8c440c8499"
      },
      "execution_count": null,
      "outputs": [
        {
          "output_type": "stream",
          "name": "stdout",
          "text": [
            "you meet a zombi\n",
            "sword is 0,bow is 1,arrow is 2\n",
            "zombi's weakness is sword\n",
            "choose a weapon(0`2)0\n",
            "you lose\n"
          ]
        }
      ]
    },
    {
      "cell_type": "code",
      "source": [],
      "metadata": {
        "id": "7bn6bH4GJe6Y"
      },
      "execution_count": null,
      "outputs": []
    },
    {
      "cell_type": "code",
      "source": [
        "def add(num1,num2):\n",
        "    return num1+num2\n",
        "def sub(num1,num2):\n",
        "    return num1-num2\n",
        "def mul(num1,num2):\n",
        "    return num1*num2\n",
        "def div(num1,num2):\n",
        "    return num1/num2\n",
        "n1=int(input(\"enter first number\"))\n",
        "n2=int(input(\"enter second number\"))\n",
        "i=input(\"enter operation\")\n",
        "if i==\"+\":\n",
        "    print(add(n1,n2))\n",
        "elif i==\"-\":\n",
        "    print(sub(n1,n2))\n",
        "elif i==\"*\":\n",
        "    print(mul(n1,n2))\n",
        "elif i==\"/\" and n2==0:\n",
        "    print(\"error\")\n",
        "elif i==\"/\":\n",
        "    print(div(n1,n2))\n",
        "else:\n",
        "        print(\"invalid\")"
      ],
      "metadata": {
        "colab": {
          "base_uri": "https://localhost:8080/"
        },
        "id": "KM_uPiWwIZXd",
        "outputId": "13379045-1bd5-442e-c106-2c13f3eb6b07"
      },
      "execution_count": null,
      "outputs": [
        {
          "output_type": "stream",
          "name": "stdout",
          "text": [
            "enter first number3\n",
            "enter second number43523\n",
            "enter operation=\n",
            "invalid\n"
          ]
        }
      ]
    },
    {
      "cell_type": "code",
      "source": [],
      "metadata": {
        "id": "WkLnCiR4qsQ9"
      },
      "execution_count": null,
      "outputs": []
    },
    {
      "cell_type": "code",
      "source": [
        "file=open(\"text.txt\",\"r\")\n",
        "for line in file:\n",
        "    print(line)\n",
        "file.close\n"
      ],
      "metadata": {
        "id": "LjGPNjDImew5",
        "colab": {
          "base_uri": "https://localhost:8080/"
        },
        "outputId": "936cd687-d1e2-44e4-f1ab-87b188bf3dff"
      },
      "execution_count": null,
      "outputs": [
        {
          "output_type": "stream",
          "name": "stdout",
          "text": [
            "text\n"
          ]
        },
        {
          "output_type": "execute_result",
          "data": {
            "text/plain": [
              "<function TextIOWrapper.close()>"
            ]
          },
          "metadata": {},
          "execution_count": 181
        }
      ]
    },
    {
      "cell_type": "code",
      "source": [
        "myfile=open(\"text.txt\",\"r\")\n",
        "print(myfile.read())\n",
        "myfile.close"
      ],
      "metadata": {
        "colab": {
          "base_uri": "https://localhost:8080/"
        },
        "id": "uIBLn8VBsR7f",
        "outputId": "2815cc09-6b26-460d-e32f-a6b2db216215"
      },
      "execution_count": null,
      "outputs": [
        {
          "output_type": "stream",
          "name": "stdout",
          "text": [
            "\n"
          ]
        },
        {
          "output_type": "execute_result",
          "data": {
            "text/plain": [
              "<function TextIOWrapper.close()>"
            ]
          },
          "metadata": {},
          "execution_count": 188
        }
      ]
    },
    {
      "cell_type": "markdown",
      "source": [],
      "metadata": {
        "id": "rTarx-rttOck"
      }
    },
    {
      "cell_type": "code",
      "source": [],
      "metadata": {
        "id": "W6VE5VxRtTES"
      },
      "execution_count": null,
      "outputs": []
    },
    {
      "cell_type": "code",
      "source": [
        "file=open(\"text.txt\",\"w\")\n",
        "file.write(\"pefnf-nfewfnewpfjew-9jewpjmopmpoejojoml;mpmpmpmmpjpmsdp[owepojpomspmpmpojj;mo]\")\n",
        "file.close"
      ],
      "metadata": {
        "colab": {
          "base_uri": "https://localhost:8080/"
        },
        "id": "DwnsA6avqs_i",
        "outputId": "ed1c0691-694c-4fe7-b7e5-97f83713fc90"
      },
      "execution_count": null,
      "outputs": [
        {
          "output_type": "execute_result",
          "data": {
            "text/plain": [
              "<function TextIOWrapper.close()>"
            ]
          },
          "metadata": {},
          "execution_count": 194
        }
      ]
    },
    {
      "cell_type": "code",
      "source": [],
      "metadata": {
        "id": "6aBh31mRvwMP"
      },
      "execution_count": null,
      "outputs": []
    },
    {
      "cell_type": "code",
      "source": [
        "#paragraph(text)\n",
        " text=\"mklwiofnifnwpifnioewniefewpindjninieninfinpweplknipn opjpjpjmonof\""
      ],
      "metadata": {
        "colab": {
          "base_uri": "https://localhost:8080/",
          "height": 106
        },
        "id": "DuuaCVGctTvB",
        "outputId": "a5fff8d2-8bbb-4891-9eeb-e04980b5de4d"
      },
      "execution_count": null,
      "outputs": [
        {
          "output_type": "error",
          "ename": "IndentationError",
          "evalue": "unexpected indent (<ipython-input-193-ff74ab0e7775>, line 2)",
          "traceback": [
            "\u001b[0;36m  File \u001b[0;32m\"<ipython-input-193-ff74ab0e7775>\"\u001b[0;36m, line \u001b[0;32m2\u001b[0m\n\u001b[0;31m    text=\"mklwiofnifnwpifnioewniefewpindjninieninfinpweplknipn opjpjpjmonof\"\u001b[0m\n\u001b[0m    ^\u001b[0m\n\u001b[0;31mIndentationError\u001b[0m\u001b[0;31m:\u001b[0m unexpected indent\n"
          ]
        }
      ]
    },
    {
      "cell_type": "code",
      "source": [
        "def paragraphy(words):\n",
        "   myfile = open(\"text.txt\",\"a\")\n",
        "   myfile.write(words)\n",
        "   myfile.close\\\n",
        "\n",
        "\n",
        "   text=\"A natural sate\"\n",
        "   text2=\"A natural sate\"\n",
        "   paragraphy(text)\n",
        "   paragraphy(text2)"
      ],
      "metadata": {
        "id": "H1NEedgbvw1r"
      },
      "execution_count": null,
      "outputs": []
    },
    {
      "cell_type": "code",
      "source": [
        "counter=0\n",
        "for i in range(3,4):\n",
        "  counter +=i\n",
        "print(\"counter : \",counter,\"i:\",i)\n",
        "\n"
      ],
      "metadata": {
        "colab": {
          "base_uri": "https://localhost:8080/"
        },
        "id": "51R-PcPCwxF0",
        "outputId": "4f03998b-ab33-460e-83fb-02443fd01edc"
      },
      "execution_count": null,
      "outputs": [
        {
          "output_type": "stream",
          "name": "stdout",
          "text": [
            "counter :  3 i: 3\n"
          ]
        }
      ]
    }
  ]
}